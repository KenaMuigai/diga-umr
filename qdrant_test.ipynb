{
 "cells": [
  {
   "cell_type": "code",
   "execution_count": 4,
   "metadata": {},
   "outputs": [
    {
     "name": "stderr",
     "output_type": "stream",
     "text": [
      "/home/rishabh/scrapy/lib/python3.10/site-packages/tqdm/auto.py:21: TqdmWarning: IProgress not found. Please update jupyter and ipywidgets. See https://ipywidgets.readthedocs.io/en/stable/user_install.html\n",
      "  from .autonotebook import tqdm as notebook_tqdm\n",
      "/home/rishabh/scrapy/lib/python3.10/site-packages/huggingface_hub/file_download.py:1132: FutureWarning: `resume_download` is deprecated and will be removed in version 1.0.0. Downloads always resume when possible. If you want to force a new download, use `force_download=True`.\n",
      "  warnings.warn(\n"
     ]
    }
   ],
   "source": [
    "from qdrant_client import models, QdrantClient\n",
    "from sentence_transformers import SentenceTransformer\n",
    "encoder = SentenceTransformer(\"intfloat/multilingual-e5-small\")"
   ]
  },
  {
   "cell_type": "code",
   "execution_count": 5,
   "metadata": {},
   "outputs": [],
   "source": [
    "# load json file as list of dictionaries\n",
    "import json\n",
    "with open('diga_crawler/output.json') as f:\n",
    "    data = json.load(f)"
   ]
  },
  {
   "cell_type": "code",
   "execution_count": 6,
   "metadata": {},
   "outputs": [
    {
     "data": {
      "text/plain": [
       "{'name': 'Selfapys Online-Kurs bei Binge-Eating-Störung',\n",
       " 'description': 'Der Selfapy Online-Kurs ist eine digitale Anwendung für Betroffene einer Binge-Eating-Störung. Der Kurs vermittelt Methoden und Techniken basierend auf der kognitiven Verhaltenstherapie und unterstützt bei der Durchführung sowie der Dokumentation der Übungen, mit dem Ziel, die Symptomatik des Anwendenden zu verbessern.',\n",
       " 'anzuwenden_bei': 'F50.4 Essattacken bei anderen psychischen Störungen F50.8 Sonstige Essstörungen F50.9 Essstörung, nicht näher bezeichnet Mehr erfahren'}"
      ]
     },
     "execution_count": 6,
     "metadata": {},
     "output_type": "execute_result"
    }
   ],
   "source": [
    "data[32]"
   ]
  },
  {
   "cell_type": "code",
   "execution_count": 7,
   "metadata": {},
   "outputs": [],
   "source": [
    "client = QdrantClient(\":memory:\")"
   ]
  },
  {
   "cell_type": "code",
   "execution_count": 8,
   "metadata": {},
   "outputs": [
    {
     "name": "stderr",
     "output_type": "stream",
     "text": [
      "/tmp/ipykernel_1632/3256227066.py:1: DeprecationWarning: `recreate_collection` method is deprecated and will be removed in the future. Use `collection_exists` to check collection existence and `create_collection` instead.\n",
      "  client.recreate_collection(\n"
     ]
    },
    {
     "data": {
      "text/plain": [
       "True"
      ]
     },
     "execution_count": 8,
     "metadata": {},
     "output_type": "execute_result"
    }
   ],
   "source": [
    "client.recreate_collection(\n",
    "    collection_name=\"digas\",\n",
    "    vectors_config=models.VectorParams(\n",
    "        size=encoder.get_sentence_embedding_dimension(),  # Vector size is defined by used model\n",
    "        distance=models.Distance.COSINE,\n",
    "    ),\n",
    ")"
   ]
  },
  {
   "cell_type": "code",
   "execution_count": 9,
   "metadata": {},
   "outputs": [],
   "source": [
    "client.upload_points(\n",
    "    collection_name=\"digas\",\n",
    "    points=[\n",
    "        models.PointStruct(\n",
    "            id=idx, vector=encoder.encode(doc[\"anzuwenden_bei\"]).tolist(), payload=doc\n",
    "        )\n",
    "        for idx, doc in enumerate(data)\n",
    "    ],\n",
    ")"
   ]
  },
  {
   "cell_type": "code",
   "execution_count": 22,
   "metadata": {},
   "outputs": [
    {
     "name": "stdout",
     "output_type": "stream",
     "text": [
      "Payload:\n",
      "  name: Endo-App\n",
      "  description: Die Endo-App ist ein digitales Medizinprodukt zur multimodalen Unterstützung von Endometriose-Betroffenen. Ziel des Programms ist es, die Nutzerinnen dabei zu unterstützen, im Rahmen des Selbstmanagements ihre Lebensqualität zu verbessern. Das Selbstmanagementkonzept beruht grundlegend auf einem Symptomtagebuch, in dem Nutzerinnen ihre Symptome, Aktivitäten, Übungen und ihre Behandlungen dokumentieren können, sowie auf multimodalen Inhalten. Als Teil der multimodalen Therapie werden wissensvermittelnde Elemente, validierte Fragebögen, geführte Übungen und Techniken aus dem Bereich Gynäkologie, Physiotherapie, Psychologie, Schmerztherapie, Rehabilitation, Sozialpädagogik, Ernährung, Ressourcenaktivierung sowie Resilienzstärkung zur Verfügung gestellt.\n",
      "  anzuwenden_bei: N80 Endometriose Mehr erfahren\n",
      "Score: 0.8614803201243191\n",
      "----------------------------------------\n"
     ]
    }
   ],
   "source": [
    "# Endometriose  \n",
    "hits = client.search(\n",
    "    collection_name=\"digas\",\n",
    "    query_vector=encoder.encode(\"Endometioe\").tolist(),\n",
    "    limit=1,\n",
    ")\n",
    "for hit in hits:\n",
    "    payload = hit.payload\n",
    "    score = hit.score\n",
    "    print(\"Payload:\")\n",
    "    for key, value in payload.items():\n",
    "        print(f\"  {key}: {value}\")\n",
    "    print(f\"Score: {score}\")\n",
    "    print(\"-\" * 40)"
   ]
  },
  {
   "cell_type": "code",
   "execution_count": 31,
   "metadata": {},
   "outputs": [
    {
     "name": "stdout",
     "output_type": "stream",
     "text": [
      "Payload:\n",
      "  name: Kranus Lutera\n",
      "  description: Kranus Lutera ist eine digitale Therapie für Männer mit Blasenentleerungsstörungen, auch “Lower Urinary Tract Symptoms” (kurz “LUTS”) genannt. Kranus Lutera bietet eine einzigartige, einfache und personalisierte Therapie über 12 Wochen, die darauf abzielt, Männern mit häufigem Harndrang bei BPH und OAB durch eine Vielzahl von Funktionen und personalisierten Ansätzen zu unterstützen.\n",
      "  anzuwenden_bei: N32.8 Sonstige näher bezeichnete Krankheiten der Harnblase N40 Prostatahyperplasie Mehr erfahren\n",
      "Score: 0.8684824625536445\n",
      "----------------------------------------\n",
      "Payload:\n",
      "  name: Mawendo\n",
      "  description: Mawendo stellt Trainingsprogramme mit Übungsvideos, Gesundheitsinformationen und Dokumentationsmöglichkeiten bereit. Das Trainingsprogramm wird initial durch Ärztinnen und Ärzte ausgewählt und in Bezug auf das Krankheitsbild, die spezifischen Übungen sowie die Trainingsphasen für die Patientin oder den Patienten individualisiert. Im Anschluss können Patientinnen und Patienten mit Hilfe der DiGA die Behandlung von Erkrankungen der Kniescheibe (Patella) durch Eigentraining selbstständig unterstützen.\n",
      "  anzuwenden_bei: M22 Krankheiten der Patella Mehr erfahren\n",
      "Score: 0.8642632782811906\n",
      "----------------------------------------\n",
      "Payload:\n",
      "  name: HelloBetter Stress und Burnout\n",
      "  description: HelloBetter Stress und Burnout ist ein interaktives, psychologisches Therapieprogramm, das auf eine anhaltende Minderung der Stressbeanspruchung in Bezug auf Schwierigkeiten bei der Lebens- und Arbeitsbewältigung abzielt. Anhand einer randomisiert kontrollierten Studie konnte gezeigt werden, dass mit der Teilnahme an diesem Online-Programm die Stressbeanspruchung nachweislich reduziert wird sowie Verbesserungen in Bereichen der psychischen Gesundheit (Depression, Angst, Schlaf) und arbeitsbezogenen Gesundheit (emotionale Erschöpfung, Arbeitsengagement) erzielt werden. Der Online-Kurs besteht aus sieben wöchentlich zu absolvierenden Einheiten sowie einer vier Wochen nach Kursende angesetzten Auffrischungseinheit mit einer Bearbeitungsdauer von je 45-60 Minuten. Neben fundierter Psychoedukation mittels Texten, Videos und Audios, vermittelt das Online-Programm wirksame Strategien aus der kognitiven Verhaltenstherapie (KVT) nach dem aktuellsten Stand wissenschaftlicher Erkenntnisse. Dazu gehören unter anderem Problemlösetechniken, Verhaltensaktivierung sowie Emotionsregulationsstrategien. Zusätzlich gibt es ein Online-Tagebuch und wiederholte Symptom-Checks, um die eigenen Fortschritte festhalten, beobachten und auswerten zu können. Zur Gewährleistung der Patientensicherheit unterstützt eine persönliche, psychologische Ansprechperson die Teilnehmenden während des gesamten Kurses durch Feedback zur akkuraten Durchführung des Programms.\n",
      "  anzuwenden_bei: Z73 Probleme mit Bezug auf Schwierigkeiten bei der Lebensbewältigung Mehr erfahren\n",
      "Score: 0.8641866984615796\n",
      "----------------------------------------\n"
     ]
    }
   ],
   "source": [
    "# Semantic Search Example\n",
    "# Zucker\n",
    "# Diabetes\n",
    "# Zuckerkrankheit\n",
    "\n",
    "\n",
    "hits = client.search(\n",
    "    collection_name=\"digas\",\n",
    "    query_vector=encoder.encode(\"\").tolist(),\n",
    "    limit=3,\n",
    ")\n",
    "for hit in hits:\n",
    "    payload = hit.payload\n",
    "    score = hit.score\n",
    "    print(\"Payload:\")\n",
    "    for key, value in payload.items():\n",
    "        print(f\"  {key}: {value}\")\n",
    "    print(f\"Score: {score}\")\n",
    "    print(\"-\" * 40)"
   ]
  },
  {
   "cell_type": "code",
   "execution_count": null,
   "metadata": {},
   "outputs": [],
   "source": []
  }
 ],
 "metadata": {
  "kernelspec": {
   "display_name": "scrapy",
   "language": "python",
   "name": "python3"
  },
  "language_info": {
   "codemirror_mode": {
    "name": "ipython",
    "version": 3
   },
   "file_extension": ".py",
   "mimetype": "text/x-python",
   "name": "python",
   "nbconvert_exporter": "python",
   "pygments_lexer": "ipython3",
   "version": "3.10.12"
  }
 },
 "nbformat": 4,
 "nbformat_minor": 2
}
